{
 "cells": [
  {
   "cell_type": "code",
   "execution_count": 11,
   "id": "a1653662-a76f-4644-95b5-f7dc50ff7d80",
   "metadata": {
    "tags": []
   },
   "outputs": [],
   "source": [
    "import cv2"
   ]
  },
  {
   "cell_type": "code",
   "execution_count": 12,
   "id": "ebacfa50-1e24-4cc3-80d2-c251b2164318",
   "metadata": {
    "tags": []
   },
   "outputs": [],
   "source": [
    "faceCascade = cv2.CascadeClassifier(\"haarcascade_frontalface_default.xml\")"
   ]
  },
  {
   "cell_type": "code",
   "execution_count": 13,
   "id": "9c172a4f-20d3-46e3-b57c-91098d5967d1",
   "metadata": {
    "tags": []
   },
   "outputs": [],
   "source": [
    "cam = cv2.VideoCapture(0) # Allow access to camera"
   ]
  },
  {
   "cell_type": "code",
   "execution_count": 14,
   "id": "afe63282-da03-42a1-b536-2ac45f0f3762",
   "metadata": {
    "tags": []
   },
   "outputs": [],
   "source": [
    "while True:\n",
    "    c_rect, d_image = cam.read()\n",
    "    gray_image = cv2.cvtColor(d_image, cv2.COLOR_BGR2GRAY)\n",
    "    \n",
    "    faces = faceCascade.detectMultiScale(\n",
    "        gray_image, \n",
    "        scaleFactor=1.1, \n",
    "        minNeighbors=5,\n",
    "        flags=cv2.CASCADE_SCALE_IMAGE\n",
    "    )\n",
    "    \n",
    "    for (x1, y1, w1, h1) in faces:\n",
    "        cv2.rectangle(d_image, (x1, y1), (x1+w1, y1+h1), (255,0,0), 2)\n",
    "    \n",
    "    cv2.imshow('img', d_image)\n",
    "    \n",
    "    # Press 'q' to exit the loop\n",
    "    if cv2.waitKey(1) == ord('q'):\n",
    "        break\n",
    "\n",
    "# Release the capture and writer objects\n",
    "cam.release()\n",
    "cv2.destroyAllWindows()"
   ]
  },
  {
   "cell_type": "code",
   "execution_count": null,
   "id": "19438311-ee83-4749-a029-d2448febdcc0",
   "metadata": {},
   "outputs": [],
   "source": []
  }
 ],
 "metadata": {
  "kernelspec": {
   "display_name": "mlfed_env",
   "language": "python",
   "name": "mlfed_env"
  },
  "language_info": {
   "codemirror_mode": {
    "name": "ipython",
    "version": 3
   },
   "file_extension": ".py",
   "mimetype": "text/x-python",
   "name": "python",
   "nbconvert_exporter": "python",
   "pygments_lexer": "ipython3",
   "version": "3.10.12"
  }
 },
 "nbformat": 4,
 "nbformat_minor": 5
}
